{
  "nbformat": 4,
  "nbformat_minor": 0,
  "metadata": {
    "colab": {
      "private_outputs": true,
      "provenance": [],
      "toc_visible": true,
      "authorship_tag": "ABX9TyOlKpI8EbgBmWhvLE76m+43",
      "include_colab_link": true
    },
    "kernelspec": {
      "name": "python3",
      "display_name": "Python 3"
    },
    "language_info": {
      "name": "python"
    }
  },
  "cells": [
    {
      "cell_type": "markdown",
      "metadata": {
        "id": "view-in-github",
        "colab_type": "text"
      },
      "source": [
        "<a href=\"https://colab.research.google.com/github/surajsk2003/OpenDevin/blob/main/Untitled7.ipynb\" target=\"_parent\"><img src=\"https://colab.research.google.com/assets/colab-badge.svg\" alt=\"Open In Colab\"/></a>"
      ]
    },
    {
      "cell_type": "code",
      "execution_count": null,
      "metadata": {
        "id": "-lLvIHIfSOS5"
      },
      "outputs": [],
      "source": [
        "import pandas as pd\n",
        "import numpy as np\n",
        "import seaborn as sns\n",
        "import matplotlib.pyplot as plt"
      ]
    },
    {
      "cell_type": "code",
      "source": [
        "df = pd.read_csv('ASP_07-2019_09-2022.csv')"
      ],
      "metadata": {
        "id": "iLJWVxvPSaC7"
      },
      "execution_count": null,
      "outputs": []
    },
    {
      "cell_type": "code",
      "source": [
        "df.head()"
      ],
      "metadata": {
        "id": "dV5doMjWSlFE"
      },
      "execution_count": null,
      "outputs": []
    },
    {
      "cell_type": "code",
      "source": [
        "rows = df.shape[0]\n",
        "cols = df.shape[1]\n",
        "print(f'Rows: {rows}, Columns: {cols}')"
      ],
      "metadata": {
        "id": "7Cdr002oSoSo"
      },
      "execution_count": null,
      "outputs": []
    },
    {
      "cell_type": "code",
      "source": [
        "df.tail()"
      ],
      "metadata": {
        "id": "FStWNvhnS16j"
      },
      "execution_count": null,
      "outputs": []
    },
    {
      "cell_type": "code",
      "source": [
        "df.all(0,None, True)"
      ],
      "metadata": {
        "id": "VBmmOEPkTFkf"
      },
      "execution_count": null,
      "outputs": []
    },
    {
      "cell_type": "code",
      "source": [
        "df.values"
      ],
      "metadata": {
        "id": "4GGQPGVRTRlN"
      },
      "execution_count": null,
      "outputs": []
    },
    {
      "cell_type": "code",
      "source": [
        "df.info()"
      ],
      "metadata": {
        "id": "5NS4fdxlTZ1f"
      },
      "execution_count": null,
      "outputs": []
    },
    {
      "cell_type": "code",
      "source": [
        "df.describe()"
      ],
      "metadata": {
        "id": "Yaz5O9HcTfsO"
      },
      "execution_count": null,
      "outputs": []
    },
    {
      "cell_type": "code",
      "source": [
        "df.isnull().sum()"
      ],
      "metadata": {
        "id": "n_cJTKo4V5Ef"
      },
      "execution_count": null,
      "outputs": []
    },
    {
      "cell_type": "code",
      "source": [
        "# mean : replace all value with the mean of the data-column\n",
        "df_copy = df.copy()\n",
        "df_copy['GHI_AVG'] = df_copy['GHI_AVG'].fillna(df_copy['GHI_AVG'].mean())\n",
        "df_copy.info()"
      ],
      "metadata": {
        "id": "92UPWFfOWkp9"
      },
      "execution_count": null,
      "outputs": []
    },
    {
      "cell_type": "code",
      "source": [
        "df_copy['GHI_AVG'].values"
      ],
      "metadata": {
        "id": "THIQj7RrYNPc"
      },
      "execution_count": null,
      "outputs": []
    },
    {
      "cell_type": "code",
      "source": [
        "# mode : replace all value with the mode of the data-column\n",
        "df_copy = df.copy()\n",
        "df_copy['GHI_AVG'] = df_copy['GHI_AVG'].fillna(df_copy['GHI_AVG'].mode())\n",
        "df_copy.info()"
      ],
      "metadata": {
        "id": "P-9Wp7XjZWoK"
      },
      "execution_count": null,
      "outputs": []
    },
    {
      "cell_type": "code",
      "source": [
        "# bfill i.e , backward fill\n",
        "df_copy = df.copy()\n",
        "df_copy['GHI_AVG'] = df_copy['GHI_AVG'].fillna(method='bfill')\n",
        "df_copy.info()\n"
      ],
      "metadata": {
        "id": "eqT_lolXZxE2"
      },
      "execution_count": null,
      "outputs": []
    },
    {
      "cell_type": "code",
      "source": [
        "#interpolate\n",
        "# method : {'linear', 'time', 'tree', 'vlaues', 'nearest', 'zero', 'slinear', 'quadratic', 'cubic', 'barycentric'}\n",
        "df_copy = df.copy()\n",
        "df_copy['GHI_AVG'] = df_copy['GHI_AVG'].interpolate(method='linear')\n",
        "df_copy.info()"
      ],
      "metadata": {
        "id": "0O-MbAjbagwt"
      },
      "execution_count": null,
      "outputs": []
    },
    {
      "cell_type": "code",
      "source": [
        "print(\"Highest allowed\", df['GHI_AVG'].mean() + 3*df['GHI_AVG'].std())\n",
        "print(\"Lowest allowed\", df['GHI_AVG'].mean() - 3*df['GHI_AVG'].std())\n",
        "print(\"Highest allowed\", df['WDIR_AVG'].mean() + 3*df['WDIR_AVG'].std())\n",
        "print(\"Lowest allowed\", df['WDIR_AVG'].mean() - 3*df['WDIR_AVG'].std())\n",
        "print(\"Highest allowed\", df['WSPD_AVG'].mean() + 3*df['WSPD_AVG'].std())\n",
        "print(\"Lowest allowed\", df['WSPD_AVG'].mean() - 3*df['WSPD_AVG'].std())\n",
        "print(\"Highest allowed\", df['TEMP_AVG'].mean() + 3*df['TEMP_AVG'].std())\n",
        "print(\"Lowest allowed\", df['TEMP_AVG'].mean() - 3*df['TEMP_AVG'].std())\n",
        "print(\"Highest allowed\", df['HUM_AVG'].mean() + 3*df['HUM_AVG'].std())\n",
        "print(\"Lowest allowed\", df['HUM_AVG'].mean() - 3*df['HUM_AVG'].std())\n"
      ],
      "metadata": {
        "id": "FxKScLC2ijAg"
      },
      "execution_count": null,
      "outputs": []
    },
    {
      "cell_type": "code",
      "source": [
        "df_3 = df.set_index('Time')"
      ],
      "metadata": {
        "id": "1D9J2nGOkZCU"
      },
      "execution_count": null,
      "outputs": []
    },
    {
      "cell_type": "code",
      "source": [
        "df_3.head()"
      ],
      "metadata": {
        "id": "04f1f-yymRzg"
      },
      "execution_count": null,
      "outputs": []
    },
    {
      "cell_type": "code",
      "source": [
        "# df_3.index = pd.to_datetime(df_3.index)\n"
      ],
      "metadata": {
        "id": "upKhcKb4kYOS"
      },
      "execution_count": null,
      "outputs": []
    },
    {
      "cell_type": "code",
      "source": [
        "sns.boxplot(data=df_3, x =df_3['GHI_AVG'], y=df_3['TEMP_AVG'])\n",
        "#ax.set_title('GHI_AVG by Hour')\n",
        "plt.gca().set(title = 'GHI_AVG by Hour', xlabel = 'Time(h)', ylabel = 'GHI{w/m}')\n",
        "plt.show()\n"
      ],
      "metadata": {
        "id": "Ag19ERvwjY99"
      },
      "execution_count": null,
      "outputs": []
    }
  ]
}